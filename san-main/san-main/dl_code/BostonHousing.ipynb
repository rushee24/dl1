#!/usr/bin/env python
# coding: utf-8

# In[2]:


# Importing Necesarry Packages
import pandas as pd
import numpy as np
from sklearn import metrics
import seaborn as sns
import matplotlib.pyplot as plt
import warnings
get_ipython().run_line_magic('matplotlib', 'inline')
warnings.filterwarnings("ignore") 


# In[4]:


df = pd.read_csv("HousingData.csv")
df.head()


# In[5]:


df.shape


# In[6]:


df.columns


# In[7]:


df.dtypes


# In[9]:


df.nunique()


# In[10]:


df.isnull().sum()


# In[11]:


df[df.isnull().any(axis=1)]


# In[12]:


corr=df.corr()
corr.shape


# In[13]:


plt.figure(figsize=(20,20))
sns.heatmap(corr, cbar=True, square= True, fmt='.1f', annot=True, annot_kws={'size':15},cmap='Greens')


# In[14]:


updated_df=df.dropna(axis=1)
updated_df.info()
x=updated_df.drop(['MEDV'],axis=1)
y=updated_df['MEDV']


# In[16]:


from sklearn.model_selection import train_test_split
x_train, x_test, y_train, y_test=train_test_split(x,y,test_size=0.3, random_state=4)


# In[19]:


#Linear Regression
#Training the model


# In[21]:


from sklearn.linear_model import LinearRegression
lm=LinearRegression()
lm.fit(x_train, y_train)


# In[22]:


lm.intercept_


# In[23]:


coefficients=pd.DataFrame([x_train.columns, lm.coef_]).T
coefficients=coefficients.rename(columns={0:'Attribute',1:'coefficients'})
coefficients


# In[24]:


#Model Evaluation


# In[25]:


y_pred=lm.predict(x_train)


# In[33]:


#model Evaluation
print('R^2:', metrics.r2_score(y_train, y_pred))
print('Adjusted R^2:', 1-(1-metrics.r2_score(y_train, y_pred)*(len(y_train)-1)/(len(y_train)-x_train.shape[1]-1)))
print('MAE:',metrics.mean_absolute_error(y_train, y_pred))
print('MSE:',metrics.mean_squared_error(y_train, y_pred))
print('RMSE:', np.sqrt(metrics.mean_squared_error(y_train, y_pred)))


# In[34]:


plt.scatter(y_train, y_pred)
plt.xlabel("prices")
plt.ylabel("predicted Prices")
plt.title("prices vs predicted prices")
plt.show()


# In[35]:


plt.scatter(y_pred, y_train-y_pred)
plt.title("predicted vs Residual")
plt.xlabel("predicted")
plt.ylabel("Residuals")
plt.show()


# In[36]:


sns.distplot(y_train-y_pred)
plt.title("Histogram of Residuals")
plt.xlabel("Residuals")
plt.ylabel("Frequency")
plt.show()


# In[37]:


#for test Data
y_test_pred=lm.predict(x_test)


# In[39]:


#model Evaluation
acc_linreg=metrics.r2_score(y_test, y_test_pred)
print('R^2:', acc_linreg)
print('Adjusted R^2:', 1-(1-metrics.r2_score(y_test, y_test_pred)*(len(y_test)-1)/(len(y_test)-x_test.shape[1]-1)))
print('MAE:',metrics.mean_absolute_error(y_test, y_test_pred))
print('MSE:',metrics.mean_squared_error(y_test, y_test_pred))
print('RMSE:', np.sqrt(metrics.mean_squared_error(y_test, y_test_pred)))


# In[ ]:




