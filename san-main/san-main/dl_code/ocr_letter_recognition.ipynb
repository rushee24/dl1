{
 "cells": [
  {
   "cell_type": "code",
   "execution_count": 1,
   "id": "44bfe369",
   "metadata": {},
   "outputs": [],
   "source": [
    "import numpy as np\n",
    "from sklearn.model_selection import train_test_split\n",
    "from sklearn.preprocessing import LabelEncoder\n",
    "from keras.models import Sequential\n",
    "from keras.layers import Dense\n",
    "from keras.utils import to_categorical\n",
    "import urllib.request"
   ]
  },
  {
   "cell_type": "code",
   "execution_count": 2,
   "id": "455066e8",
   "metadata": {},
   "outputs": [
    {
     "data": {
      "text/plain": [
       "('letter-recognition.data', <http.client.HTTPMessage at 0x1c8f33542b0>)"
      ]
     },
     "execution_count": 2,
     "metadata": {},
     "output_type": "execute_result"
    }
   ],
   "source": [
    "url = 'https://archive.ics.uci.edu/ml/machine-learning-databases/letter-recognition/letter-recognition.data'\n",
    "data_file = 'letter-recognition.data'\n",
    "urllib.request.urlretrieve(url, data_file)\n"
   ]
  },
  {
   "cell_type": "code",
   "execution_count": 3,
   "id": "6d905a22",
   "metadata": {},
   "outputs": [],
   "source": [
    "data = np.genfromtxt(data_file, delimiter=',', dtype=str)\n"
   ]
  },
  {
   "cell_type": "code",
   "execution_count": 4,
   "id": "43518e5f",
   "metadata": {},
   "outputs": [],
   "source": [
    "X = data[:, 1:].astype(float)\n",
    "y = data[:, 0]"
   ]
  },
  {
   "cell_type": "code",
   "execution_count": 5,
   "id": "e3c75dab",
   "metadata": {},
   "outputs": [],
   "source": [
    "label_encoder = LabelEncoder()\n",
    "y = label_encoder.fit_transform(y)\n"
   ]
  },
  {
   "cell_type": "code",
   "execution_count": 6,
   "id": "e7ce978f",
   "metadata": {},
   "outputs": [],
   "source": [
    "y = to_categorical(y)"
   ]
  },
  {
   "cell_type": "code",
   "execution_count": 7,
   "id": "8d8eadf7",
   "metadata": {},
   "outputs": [],
   "source": [
    "X_train, X_test, y_train, y_test = train_test_split(X, y, test_size=0.2, random_state=42)"
   ]
  },
  {
   "cell_type": "code",
   "execution_count": 8,
   "id": "5028431d",
   "metadata": {},
   "outputs": [],
   "source": [
    "model = Sequential()\n",
    "model.add(Dense(128, activation='relu', input_shape=(X_train.shape[1],)))\n",
    "model.add(Dense(64, activation='relu'))\n",
    "model.add(Dense(y.shape[1], activation='softmax'))"
   ]
  },
  {
   "cell_type": "code",
   "execution_count": 9,
   "id": "cb40dd1a",
   "metadata": {},
   "outputs": [],
   "source": [
    "model.compile(loss='categorical_crossentropy', optimizer='adam', metrics=['accuracy'])"
   ]
  },
  {
   "cell_type": "code",
   "execution_count": 10,
   "id": "ab3f218e",
   "metadata": {},
   "outputs": [
    {
     "name": "stdout",
     "output_type": "stream",
     "text": [
      "Epoch 1/20\n",
      "125/125 [==============================] - 1s 3ms/step - loss: 2.3078 - accuracy: 0.3779\n",
      "Epoch 2/20\n",
      "125/125 [==============================] - 0s 3ms/step - loss: 1.2096 - accuracy: 0.6754\n",
      "Epoch 3/20\n",
      "125/125 [==============================] - 0s 3ms/step - loss: 0.9757 - accuracy: 0.7370\n",
      "Epoch 4/20\n",
      "125/125 [==============================] - 0s 3ms/step - loss: 0.8652 - accuracy: 0.7592\n",
      "Epoch 5/20\n",
      "125/125 [==============================] - 0s 3ms/step - loss: 0.7882 - accuracy: 0.7804\n",
      "Epoch 6/20\n",
      "125/125 [==============================] - 0s 2ms/step - loss: 0.7186 - accuracy: 0.8016\n",
      "Epoch 7/20\n",
      "125/125 [==============================] - 0s 3ms/step - loss: 0.6697 - accuracy: 0.8116\n",
      "Epoch 8/20\n",
      "125/125 [==============================] - 0s 2ms/step - loss: 0.6171 - accuracy: 0.8260\n",
      "Epoch 9/20\n",
      "125/125 [==============================] - 0s 3ms/step - loss: 0.5829 - accuracy: 0.8319\n",
      "Epoch 10/20\n",
      "125/125 [==============================] - 0s 3ms/step - loss: 0.5457 - accuracy: 0.8406\n",
      "Epoch 11/20\n",
      "125/125 [==============================] - 0s 3ms/step - loss: 0.5092 - accuracy: 0.8532\n",
      "Epoch 12/20\n",
      "125/125 [==============================] - 0s 3ms/step - loss: 0.4829 - accuracy: 0.8558\n",
      "Epoch 13/20\n",
      "125/125 [==============================] - 0s 3ms/step - loss: 0.4645 - accuracy: 0.8626\n",
      "Epoch 14/20\n",
      "125/125 [==============================] - 0s 3ms/step - loss: 0.4374 - accuracy: 0.8708\n",
      "Epoch 15/20\n",
      "125/125 [==============================] - 0s 3ms/step - loss: 0.4191 - accuracy: 0.8733\n",
      "Epoch 16/20\n",
      "125/125 [==============================] - 0s 2ms/step - loss: 0.4000 - accuracy: 0.8804\n",
      "Epoch 17/20\n",
      "125/125 [==============================] - 0s 2ms/step - loss: 0.3814 - accuracy: 0.8851\n",
      "Epoch 18/20\n",
      "125/125 [==============================] - 0s 3ms/step - loss: 0.3635 - accuracy: 0.8904\n",
      "Epoch 19/20\n",
      "125/125 [==============================] - 0s 2ms/step - loss: 0.3517 - accuracy: 0.8951\n",
      "Epoch 20/20\n",
      "125/125 [==============================] - 0s 3ms/step - loss: 0.3394 - accuracy: 0.8973\n"
     ]
    },
    {
     "data": {
      "text/plain": [
       "<keras.callbacks.History at 0x1c8f3937bb0>"
      ]
     },
     "execution_count": 10,
     "metadata": {},
     "output_type": "execute_result"
    }
   ],
   "source": [
    "model.fit(X_train, y_train, epochs=20, batch_size=128, verbose=1)"
   ]
  },
  {
   "cell_type": "code",
   "execution_count": 11,
   "id": "2e4a7fd7",
   "metadata": {},
   "outputs": [
    {
     "name": "stdout",
     "output_type": "stream",
     "text": [
      "Test loss: 0.3551531434059143\n",
      "Test accuracy: 0.890999972820282\n"
     ]
    }
   ],
   "source": [
    "score = model.evaluate(X_test, y_test, verbose=0)\n",
    "print('Test loss:', score[0])\n",
    "print('Test accuracy:', score[1])"
   ]
  },
  {
   "cell_type": "code",
   "execution_count": null,
   "id": "db394d7b",
   "metadata": {},
   "outputs": [],
   "source": []
  }
 ],
 "metadata": {
  "kernelspec": {
   "display_name": "Python 3",
   "language": "python",
   "name": "python3"
  },
  "language_info": {
   "codemirror_mode": {
    "name": "ipython",
    "version": 3
   },
   "file_extension": ".py",
   "mimetype": "text/x-python",
   "name": "python",
   "nbconvert_exporter": "python",
   "pygments_lexer": "ipython3",
   "version": "3.10.9"
  }
 },
 "nbformat": 4,
 "nbformat_minor": 5
}
